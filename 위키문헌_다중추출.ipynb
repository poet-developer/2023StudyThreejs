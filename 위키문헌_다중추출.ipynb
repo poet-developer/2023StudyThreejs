{
  "nbformat": 4,
  "nbformat_minor": 0,
  "metadata": {
    "colab": {
      "provenance": [],
      "include_colab_link": true
    },
    "kernelspec": {
      "name": "python3",
      "display_name": "Python 3"
    },
    "language_info": {
      "name": "python"
    }
  },
  "cells": [
    {
      "cell_type": "markdown",
      "metadata": {
        "id": "view-in-github",
        "colab_type": "text"
      },
      "source": [
        "<a href=\"https://colab.research.google.com/github/poet-developer/2023StudyThreejs/blob/main/%EC%9C%84%ED%82%A4%EB%AC%B8%ED%97%8C_%EB%8B%A4%EC%A4%91%EC%B6%94%EC%B6%9C.ipynb\" target=\"_parent\"><img src=\"https://colab.research.google.com/assets/colab-badge.svg\" alt=\"Open In Colab\"/></a>"
      ]
    },
    {
      "cell_type": "markdown",
      "source": [
        "# 위키문헌(Wikisource) XML파일 처리"
      ],
      "metadata": {
        "id": "drLQ4PFuxBAo"
      }
    },
    {
      "cell_type": "code",
      "source": [
        "pip install -q wikiextractor gdown"
      ],
      "metadata": {
        "id": "Q7FNIJy6xBb6",
        "colab": {
          "base_uri": "https://localhost:8080/"
        },
        "outputId": "585a76ed-689d-4c3c-fdeb-850e83aaa76b"
      },
      "execution_count": 3,
      "outputs": [
        {
          "output_type": "stream",
          "name": "stdout",
          "text": [
            "\u001b[?25l   \u001b[90m━━━━━━━━━━━━━━━━━━━━━━━━━━━━━━━━━━━━━━━━\u001b[0m \u001b[32m0.0/46.4 kB\u001b[0m \u001b[31m?\u001b[0m eta \u001b[36m-:--:--\u001b[0m\r\u001b[2K   \u001b[90m━━━━━━━━━━━━━━━━━━━━━━━━━━━━━━━━━━━━━━━━\u001b[0m \u001b[32m46.4/46.4 kB\u001b[0m \u001b[31m1.3 MB/s\u001b[0m eta \u001b[36m0:00:00\u001b[0m\n",
            "\u001b[?25h"
          ]
        }
      ]
    },
    {
      "cell_type": "code",
      "source": [
        "# 필요 패키지 load\n",
        "import pandas as pd\n",
        "from tqdm import tqdm\n",
        "tqdm.pandas()\n",
        "# import gutenbergpy.textget\n",
        "from pprint import pprint\n",
        "import gdown\n",
        "from collections import Counter\n",
        "from itertools import chain"
      ],
      "metadata": {
        "id": "gVDGJ04xxN08"
      },
      "execution_count": 4,
      "outputs": []
    },
    {
      "cell_type": "markdown",
      "source": [
        "### 위키문헌 (wikisource)\n",
        "https://dumps.wikimedia.org/kowikisource/20240901/  \n",
        "참고문헌 : 서재현, 김병준, 김민우 and 박소정. (2021). 멀리서 읽는 “우리”― Word2Vec, N-gram을 이용한 근대 소설 텍스트 분석. 대동문화연구, 115, 349-386."
      ],
      "metadata": {
        "id": "gpoFZcM1vp-y"
      }
    },
    {
      "cell_type": "markdown",
      "source": [
        "##### 위키문헌 전처리"
      ],
      "metadata": {
        "id": "qgRZeI6n1R2t"
      }
    },
    {
      "cell_type": "code",
      "source": [
        "# 위키문헌 xml 원본 파일 다운로드\n",
        "# https://dumps.wikimedia.org/kowikisource/20240901/kowikisource-20240901-pages-articles.xml.bz2\n",
        "!wget https://dumps.wikimedia.org/kowikisource/20241101/kowikisource-20241101-pages-articles.xml.bz2"
      ],
      "metadata": {
        "id": "-GmI9Pc7y5tJ",
        "colab": {
          "base_uri": "https://localhost:8080/"
        },
        "outputId": "57e3b283-9f14-4e8d-8961-a9cfee2933a2"
      },
      "execution_count": 5,
      "outputs": [
        {
          "output_type": "stream",
          "name": "stdout",
          "text": [
            "--2024-11-19 11:21:32--  https://dumps.wikimedia.org/kowikisource/20241101/kowikisource-20241101-pages-articles.xml.bz2\n",
            "Resolving dumps.wikimedia.org (dumps.wikimedia.org)... 208.80.154.71, 2620:0:861:3:208:80:154:71\n",
            "Connecting to dumps.wikimedia.org (dumps.wikimedia.org)|208.80.154.71|:443... connected.\n",
            "HTTP request sent, awaiting response... 200 OK\n",
            "Length: 151135574 (144M) [application/octet-stream]\n",
            "Saving to: ‘kowikisource-20241101-pages-articles.xml.bz2’\n",
            "\n",
            "kowikisource-202411 100%[===================>] 144.13M  4.31MB/s    in 34s     \n",
            "\n",
            "2024-11-19 11:22:06 (4.22 MB/s) - ‘kowikisource-20241101-pages-articles.xml.bz2’ saved [151135574/151135574]\n",
            "\n"
          ]
        }
      ]
    },
    {
      "cell_type": "code",
      "execution_count": 6,
      "metadata": {
        "id": "0O1-IqBdxZWi",
        "colab": {
          "base_uri": "https://localhost:8080/"
        },
        "outputId": "e6edc8d5-f547-4650-e830-ddc8160f80b7"
      },
      "outputs": [
        {
          "output_type": "stream",
          "name": "stdout",
          "text": [
            "INFO: Preprocessing 'kowikisource-20241101-pages-articles.xml.bz2' to collect template definitions: this may take some time.\n",
            "INFO: Loaded 1242 templates in 81.8s\n",
            "INFO: Starting page extraction from kowikisource-20241101-pages-articles.xml.bz2.\n",
            "INFO: Using 1 extract processes.\n",
            "INFO: Finished 1-process extraction of 37057 articles in 159.1s (232.9 art/s)\n"
          ]
        }
      ],
      "source": [
        "# Parsing (3분 가량 걸림)\n",
        "!python -m wikiextractor.WikiExtractor kowikisource-20241101-pages-articles.xml.bz2"
      ]
    },
    {
      "cell_type": "code",
      "execution_count": 7,
      "metadata": {
        "id": "nHIFyh_hxZWj"
      },
      "outputs": [],
      "source": [
        "# 파싱한 파일을 하나의 xml로 합치기\n",
        "!cat text/*/* > kowikisource.xml"
      ]
    },
    {
      "cell_type": "code",
      "execution_count": 8,
      "metadata": {
        "id": "rprxLloPxZWj"
      },
      "outputs": [],
      "source": [
        "# 맨위에 추가\n",
        "!echo \"$(echo -n -e '<?xml version=\"1.0\" encoding=\"UTF-8\"?>\\n<wikisource>\\n'; cat kowikisource.xml)\" > kowikisource.xml"
      ]
    },
    {
      "cell_type": "code",
      "execution_count": 9,
      "metadata": {
        "id": "Rk2c3ZM8xZWj",
        "colab": {
          "base_uri": "https://localhost:8080/"
        },
        "outputId": "a7eca4ff-b5b0-4fcc-e8a1-ef9e4d9c015a"
      },
      "outputs": [
        {
          "output_type": "stream",
          "name": "stdout",
          "text": [
            "<?xml version=\"1.0\" encoding=\"UTF-8\"?>\n",
            "<wikisource>\n",
            "<doc id=\"1\" url=\"https://ko.wikisource.org/wiki?curid=1\" title=\"애국가 (대한민국)\">\n",
            "애국가 (대한민국)\n",
            "\n",
            "한자 혼용\n",
            "한글\n",
            "\n",
            "</doc>\n",
            "<doc id=\"2\" url=\"https://ko.wikisource.org/wiki?curid=2\" title=\"대한민국헌법 (한자혼용)\">\n",
            "대한민국헌법 (한자혼용)\n",
            "\n",
            "\n",
            "\n",
            "</doc>\n",
            "<doc id=\"3\" url=\"https://ko.wikisource.org/wiki?curid=3\" title=\"조선민주주의인민공화국 사회주의헌법\">\n",
            "조선민주주의인민공화국 사회주의헌법\n",
            "\n",
            "서문.\n",
            "조선민주주의인민공화국은 위대한 김일성동지와 김정일동지의 사상과 령도를 구현한 주체의 사회주의조국이다.\n"
          ]
        }
      ],
      "source": [
        "!head -n 20 kowikisource.xml # 첫 20줄만 확인"
      ]
    },
    {
      "cell_type": "code",
      "execution_count": 10,
      "metadata": {
        "id": "-y4nAvUGxZWk"
      },
      "outputs": [],
      "source": [
        "# 맨 아랫줄에 추가\n",
        "!echo '</wikisource>' >> kowikisource.xml"
      ]
    },
    {
      "cell_type": "code",
      "execution_count": 11,
      "metadata": {
        "id": "jBD6FKEGxZWk",
        "colab": {
          "base_uri": "https://localhost:8080/"
        },
        "outputId": "c9d7a268-f8c2-4c2b-a338-7dafe9237a27"
      },
      "outputs": [
        {
          "output_type": "stream",
          "name": "stdout",
          "text": [
            "\n",
            "\n",
            "</doc>\n",
            "<doc id=\"93454\" url=\"https://ko.wikisource.org/wiki?curid=93454\" title=\"에티카 (스피노자)\">\n",
            "에티카 (스피노자)\n",
            "\n",
            "\n",
            "\n",
            "</doc>\n",
            "</wikisource>\n"
          ]
        }
      ],
      "source": [
        "!tail kowikisource.xml # 마지막줄 확인"
      ]
    },
    {
      "cell_type": "markdown",
      "source": [
        "##### 위키문헌 다루기"
      ],
      "metadata": {
        "id": "77tRo2aq1UGZ"
      }
    },
    {
      "cell_type": "code",
      "source": [
        "# xml 파일 dataframe로 읽기\n",
        "df = pd.read_xml('./kowikisource.xml')"
      ],
      "metadata": {
        "id": "d_av3Pg7vtqQ",
        "collapsed": true
      },
      "execution_count": 36,
      "outputs": []
    },
    {
      "cell_type": "markdown",
      "source": [
        "####작업자: 임이로\n",
        "####poetdeveloper.iro@gmail.com\n",
        "####bkksg.com"
      ],
      "metadata": {
        "id": "z7O18HHkEX18"
      }
    },
    {
      "cell_type": "markdown",
      "source": [
        "### 분리 행 추출 함수(getPoemLines)"
      ],
      "metadata": {
        "id": "cg8rC8lDEDlB"
      }
    },
    {
      "cell_type": "code",
      "source": [
        "def process_getPoemLines(data):\n",
        "    # 불필요한 인자 제거\n",
        "    filtered_list = [item for item in data if item not in [None, \"\", \" \", [], {}, '<poem>', '</poem>', '진달래꽃 (시집)/']]\n",
        "\n",
        "    # 제목 편집 (0번 인자 수정)\n",
        "    pick_title = filtered_list[0].split('/')\n",
        "    pick_title = pick_title[1] if len(pick_title) > 1 else filtered_list[0]\n",
        "    filtered_list[0] = pick_title\n",
        "\n",
        "    # 'title'은 첫 번째 인자, '본문'은 나머지 인자들\n",
        "    title = filtered_list[0]\n",
        "    body = filtered_list[1:]\n",
        "\n",
        "    # DataFrame 생성: 본문 열이 먼저 오도록\n",
        "    df = pd.DataFrame({'본문': body, '제목': [title] * len(body)})\n",
        "\n",
        "    return df"
      ],
      "metadata": {
        "id": "J2a6fuKuYHge"
      },
      "execution_count": 13,
      "outputs": []
    },
    {
      "cell_type": "markdown",
      "source": [
        "### 시 전체 추출 함수(getPoemFull Lines)"
      ],
      "metadata": {
        "id": "lgMcqWPmJ0bN"
      }
    },
    {
      "cell_type": "code",
      "source": [
        "def process_getPoemFullLines(data):\n",
        "    # 불필요한 인자 제거\n",
        "    cleaned_text = data.replace('<poem>', '').replace('</poem>', '').strip()\n",
        "    # 텍스트를 줄 단위로 나누기\n",
        "    lines = cleaned_text.strip().split('\\n')\n",
        "    title = lines[0]  # 첫 줄은 제목\n",
        "    body = '\\n'.join(lines[1:])  # 나머지는 본문\n",
        "\n",
        "    # DataFrame 생성\n",
        "    df = pd.DataFrame({'제목': [title], '본문': [body]})\n",
        "\n",
        "    return df"
      ],
      "metadata": {
        "id": "uyK5vKSzJxdQ"
      },
      "execution_count": 24,
      "outputs": []
    },
    {
      "cell_type": "markdown",
      "source": [
        "### 검색 데이터를 가지고 특정 행마다 다중 추출(update_results_with_title)"
      ],
      "metadata": {
        "id": "zf6QpeapEMyt"
      }
    },
    {
      "cell_type": "code",
      "source": [
        "def update_results_with_title(df, results_df, process_function, title_to_search, author):\n",
        "\n",
        "    # 제목에 해당하는 텍스트 검색\n",
        "    title_to_search.replace(\"_\", \" \")\n",
        "    filtered_text = df[df['title'].str.contains(title_to_search, na=False)]\n",
        "    if filtered_text.empty:\n",
        "        raise ValueError(f\"'{title_to_search}'에 해당하는 데이터가 없습니다.\")\n",
        "\n",
        "\n",
        "    # 조건 반복문으로 'doc' 처리\n",
        "    for index, row in filtered_text.iterrows():\n",
        "        if 'doc' in row:  # 'doc' 열이 존재하는지 확인\n",
        "            # 'doc' 값 추출\n",
        "            text_value = row['doc']\n",
        "\n",
        "            # 텍스트 처리\n",
        "            processed_result = process_function(text_value.split('\\n'))\n",
        "\n",
        "            # 처리 결과를 기존 DataFrame에 추가\n",
        "            results_df = pd.concat([results_df, pd.DataFrame(processed_result)], ignore_index=True)\n",
        "\n",
        "            # # 새로운 열 추가 (고정된 값)\n",
        "            results_df['저자'] = author\n",
        "        else:\n",
        "            print(f\"Row {index}에 'doc' 값이 없습니다. 건너뜁니다.\")\n",
        "    return results_df"
      ],
      "metadata": {
        "id": "d16ytDmOUlow"
      },
      "execution_count": 15,
      "outputs": []
    },
    {
      "cell_type": "markdown",
      "source": [
        "### 검색 데이터를 가지고 특정 시 전체 다중 추출(update results for FullText)"
      ],
      "metadata": {
        "id": "88gWeqPxP3yz"
      }
    },
    {
      "cell_type": "code",
      "source": [
        "def update_FullTextResults_with_title(df, results_df, process_function, title_to_search, author):\n",
        "\n",
        "    # 제목에 해당하는 텍스트 검색\n",
        "    title_to_search.replace(\"_\", \" \")\n",
        "    filtered_text = df[df['title'].str.contains(title_to_search, na=False)]\n",
        "    if filtered_text.empty:\n",
        "        raise ValueError(f\"'{title_to_search}'에 해당하는 데이터가 없습니다.\")\n",
        "\n",
        "\n",
        "    # 조건 반복문으로 'doc' 처리\n",
        "    for index, row in filtered_text.iterrows():\n",
        "        if 'doc' in row:  # 'doc' 열이 존재하는지 확인\n",
        "            # 'doc' 값 추출\n",
        "            text_value = row['doc']\n",
        "\n",
        "            # 텍스트 처리\n",
        "            processed_result = process_function(text_value)\n",
        "\n",
        "            # 처리 결과를 기존 DataFrame에 추가\n",
        "            results_df = pd.concat([results_df, pd.DataFrame(processed_result)], ignore_index=True)\n",
        "\n",
        "            # # 새로운 열 추가 (고정된 값)\n",
        "            results_df['저자'] = author\n",
        "        else:\n",
        "            print(f\"Row {index}에 'doc' 값이 없습니다. 건너뜁니다.\")\n",
        "    return results_df"
      ],
      "metadata": {
        "id": "jeZlQDEqLRTC"
      },
      "execution_count": 27,
      "outputs": []
    },
    {
      "cell_type": "markdown",
      "source": [
        "### 특정 데이터 추출 전 검색"
      ],
      "metadata": {
        "id": "GbfHE-CfD1HC"
      }
    },
    {
      "cell_type": "code",
      "source": [
        "# 검색 데이터 확인.\n",
        "title = '님의 침묵/'\n",
        "author = '한용운'\n",
        "check = df[df['title'].str.contains(title)]\n",
        "check"
      ],
      "metadata": {
        "colab": {
          "base_uri": "https://localhost:8080/",
          "height": 597
        },
        "collapsed": true,
        "id": "Ntpt5Dbe9fUW",
        "outputId": "a44a2978-5716-4ed7-9a5c-3efb688a61ca"
      },
      "execution_count": 16,
      "outputs": [
        {
          "output_type": "execute_result",
          "data": {
            "text/plain": [
              "          id                                         url             title  \\\n",
              "30      1362   https://ko.wikisource.org/wiki?curid=1362         님의 침묵/가갸날   \n",
              "59      1513   https://ko.wikisource.org/wiki?curid=1513       님의 침묵/님의 침묵   \n",
              "68      1526   https://ko.wikisource.org/wiki?curid=1526     님의 침묵/나룻배와 행인   \n",
              "614     3646   https://ko.wikisource.org/wiki?curid=3646     님의 침묵/알 수 없어요   \n",
              "615     3647   https://ko.wikisource.org/wiki?curid=3647   님의 침묵/당신을 보았습니다   \n",
              "...      ...                                         ...               ...   \n",
              "9899   25036  https://ko.wikisource.org/wiki?curid=25036          님의 침묵/요술   \n",
              "9900   25037  https://ko.wikisource.org/wiki?curid=25037    님의 침묵/여름밤이 길어요   \n",
              "9901   25038  https://ko.wikisource.org/wiki?curid=25038          님의 침묵/칠석   \n",
              "9902   25039  https://ko.wikisource.org/wiki?curid=25039         님의 침묵/오셔요   \n",
              "27300  53964  https://ko.wikisource.org/wiki?curid=53964  님의 침묵/하나가 되어 주세요   \n",
              "\n",
              "                                                     doc  \n",
              "30     \\n님의 침묵/가갸날\\n\\n<poem>\\n아아, 가갸날\\n참되고 어질고 아름다와요\\...  \n",
              "59     \\n님의 침묵/님의 침묵\\n\\n원문.\\n<poem>\\n님은 갓슴니다 아々 사랑하는나...  \n",
              "68     \\n님의 침묵/나룻배와 행인\\n\\n<poem>\\n나는 나룻배 \\n당신은 行人\\n당신...  \n",
              "614    \\n님의 침묵/알 수 없어요\\n\\n원문.\\n<poem>\\n바람도업는공중에 垂直의波紋...  \n",
              "615    \\n님의 침묵/당신을 보았습니다\\n\\n<poem>\\n당신이 가신 뒤로 나는 당신을 ...  \n",
              "...                                                  ...  \n",
              "9899   \\n님의 침묵/요술\\n\\n<poem>\\n가을 洪水가 작은 시내의 쌓인 落葉을 휩쓸어...  \n",
              "9900   \\n님의 침묵/여름밤이 길어요\\n\\n<poem>\\n당신이 계실 때에는 겨울밤이 짧더...  \n",
              "9901   \\n님의 침묵/칠석\\n\\n<poem>\\n「차라리 님이 없이 스스로 님이 되고 살지언...  \n",
              "9902   \\n님의 침묵/오셔요\\n\\n<poem>\\n오셔요 당신은 오실 때가 되었어요 어서 오...  \n",
              "27300                         \\n님의 침묵/하나가 되어 주세요\\n\\n\\n\\n  \n",
              "\n",
              "[94 rows x 4 columns]"
            ],
            "text/html": [
              "\n",
              "  <div id=\"df-6358b029-0861-41c9-b1a9-cc02fff8682d\" class=\"colab-df-container\">\n",
              "    <div>\n",
              "<style scoped>\n",
              "    .dataframe tbody tr th:only-of-type {\n",
              "        vertical-align: middle;\n",
              "    }\n",
              "\n",
              "    .dataframe tbody tr th {\n",
              "        vertical-align: top;\n",
              "    }\n",
              "\n",
              "    .dataframe thead th {\n",
              "        text-align: right;\n",
              "    }\n",
              "</style>\n",
              "<table border=\"1\" class=\"dataframe\">\n",
              "  <thead>\n",
              "    <tr style=\"text-align: right;\">\n",
              "      <th></th>\n",
              "      <th>id</th>\n",
              "      <th>url</th>\n",
              "      <th>title</th>\n",
              "      <th>doc</th>\n",
              "    </tr>\n",
              "  </thead>\n",
              "  <tbody>\n",
              "    <tr>\n",
              "      <th>30</th>\n",
              "      <td>1362</td>\n",
              "      <td>https://ko.wikisource.org/wiki?curid=1362</td>\n",
              "      <td>님의 침묵/가갸날</td>\n",
              "      <td>\\n님의 침묵/가갸날\\n\\n&lt;poem&gt;\\n아아, 가갸날\\n참되고 어질고 아름다와요\\...</td>\n",
              "    </tr>\n",
              "    <tr>\n",
              "      <th>59</th>\n",
              "      <td>1513</td>\n",
              "      <td>https://ko.wikisource.org/wiki?curid=1513</td>\n",
              "      <td>님의 침묵/님의 침묵</td>\n",
              "      <td>\\n님의 침묵/님의 침묵\\n\\n원문.\\n&lt;poem&gt;\\n님은 갓슴니다 아々 사랑하는나...</td>\n",
              "    </tr>\n",
              "    <tr>\n",
              "      <th>68</th>\n",
              "      <td>1526</td>\n",
              "      <td>https://ko.wikisource.org/wiki?curid=1526</td>\n",
              "      <td>님의 침묵/나룻배와 행인</td>\n",
              "      <td>\\n님의 침묵/나룻배와 행인\\n\\n&lt;poem&gt;\\n나는 나룻배 \\n당신은 行人\\n당신...</td>\n",
              "    </tr>\n",
              "    <tr>\n",
              "      <th>614</th>\n",
              "      <td>3646</td>\n",
              "      <td>https://ko.wikisource.org/wiki?curid=3646</td>\n",
              "      <td>님의 침묵/알 수 없어요</td>\n",
              "      <td>\\n님의 침묵/알 수 없어요\\n\\n원문.\\n&lt;poem&gt;\\n바람도업는공중에 垂直의波紋...</td>\n",
              "    </tr>\n",
              "    <tr>\n",
              "      <th>615</th>\n",
              "      <td>3647</td>\n",
              "      <td>https://ko.wikisource.org/wiki?curid=3647</td>\n",
              "      <td>님의 침묵/당신을 보았습니다</td>\n",
              "      <td>\\n님의 침묵/당신을 보았습니다\\n\\n&lt;poem&gt;\\n당신이 가신 뒤로 나는 당신을 ...</td>\n",
              "    </tr>\n",
              "    <tr>\n",
              "      <th>...</th>\n",
              "      <td>...</td>\n",
              "      <td>...</td>\n",
              "      <td>...</td>\n",
              "      <td>...</td>\n",
              "    </tr>\n",
              "    <tr>\n",
              "      <th>9899</th>\n",
              "      <td>25036</td>\n",
              "      <td>https://ko.wikisource.org/wiki?curid=25036</td>\n",
              "      <td>님의 침묵/요술</td>\n",
              "      <td>\\n님의 침묵/요술\\n\\n&lt;poem&gt;\\n가을 洪水가 작은 시내의 쌓인 落葉을 휩쓸어...</td>\n",
              "    </tr>\n",
              "    <tr>\n",
              "      <th>9900</th>\n",
              "      <td>25037</td>\n",
              "      <td>https://ko.wikisource.org/wiki?curid=25037</td>\n",
              "      <td>님의 침묵/여름밤이 길어요</td>\n",
              "      <td>\\n님의 침묵/여름밤이 길어요\\n\\n&lt;poem&gt;\\n당신이 계실 때에는 겨울밤이 짧더...</td>\n",
              "    </tr>\n",
              "    <tr>\n",
              "      <th>9901</th>\n",
              "      <td>25038</td>\n",
              "      <td>https://ko.wikisource.org/wiki?curid=25038</td>\n",
              "      <td>님의 침묵/칠석</td>\n",
              "      <td>\\n님의 침묵/칠석\\n\\n&lt;poem&gt;\\n「차라리 님이 없이 스스로 님이 되고 살지언...</td>\n",
              "    </tr>\n",
              "    <tr>\n",
              "      <th>9902</th>\n",
              "      <td>25039</td>\n",
              "      <td>https://ko.wikisource.org/wiki?curid=25039</td>\n",
              "      <td>님의 침묵/오셔요</td>\n",
              "      <td>\\n님의 침묵/오셔요\\n\\n&lt;poem&gt;\\n오셔요 당신은 오실 때가 되었어요 어서 오...</td>\n",
              "    </tr>\n",
              "    <tr>\n",
              "      <th>27300</th>\n",
              "      <td>53964</td>\n",
              "      <td>https://ko.wikisource.org/wiki?curid=53964</td>\n",
              "      <td>님의 침묵/하나가 되어 주세요</td>\n",
              "      <td>\\n님의 침묵/하나가 되어 주세요\\n\\n\\n\\n</td>\n",
              "    </tr>\n",
              "  </tbody>\n",
              "</table>\n",
              "<p>94 rows × 4 columns</p>\n",
              "</div>\n",
              "    <div class=\"colab-df-buttons\">\n",
              "\n",
              "  <div class=\"colab-df-container\">\n",
              "    <button class=\"colab-df-convert\" onclick=\"convertToInteractive('df-6358b029-0861-41c9-b1a9-cc02fff8682d')\"\n",
              "            title=\"Convert this dataframe to an interactive table.\"\n",
              "            style=\"display:none;\">\n",
              "\n",
              "  <svg xmlns=\"http://www.w3.org/2000/svg\" height=\"24px\" viewBox=\"0 -960 960 960\">\n",
              "    <path d=\"M120-120v-720h720v720H120Zm60-500h600v-160H180v160Zm220 220h160v-160H400v160Zm0 220h160v-160H400v160ZM180-400h160v-160H180v160Zm440 0h160v-160H620v160ZM180-180h160v-160H180v160Zm440 0h160v-160H620v160Z\"/>\n",
              "  </svg>\n",
              "    </button>\n",
              "\n",
              "  <style>\n",
              "    .colab-df-container {\n",
              "      display:flex;\n",
              "      gap: 12px;\n",
              "    }\n",
              "\n",
              "    .colab-df-convert {\n",
              "      background-color: #E8F0FE;\n",
              "      border: none;\n",
              "      border-radius: 50%;\n",
              "      cursor: pointer;\n",
              "      display: none;\n",
              "      fill: #1967D2;\n",
              "      height: 32px;\n",
              "      padding: 0 0 0 0;\n",
              "      width: 32px;\n",
              "    }\n",
              "\n",
              "    .colab-df-convert:hover {\n",
              "      background-color: #E2EBFA;\n",
              "      box-shadow: 0px 1px 2px rgba(60, 64, 67, 0.3), 0px 1px 3px 1px rgba(60, 64, 67, 0.15);\n",
              "      fill: #174EA6;\n",
              "    }\n",
              "\n",
              "    .colab-df-buttons div {\n",
              "      margin-bottom: 4px;\n",
              "    }\n",
              "\n",
              "    [theme=dark] .colab-df-convert {\n",
              "      background-color: #3B4455;\n",
              "      fill: #D2E3FC;\n",
              "    }\n",
              "\n",
              "    [theme=dark] .colab-df-convert:hover {\n",
              "      background-color: #434B5C;\n",
              "      box-shadow: 0px 1px 3px 1px rgba(0, 0, 0, 0.15);\n",
              "      filter: drop-shadow(0px 1px 2px rgba(0, 0, 0, 0.3));\n",
              "      fill: #FFFFFF;\n",
              "    }\n",
              "  </style>\n",
              "\n",
              "    <script>\n",
              "      const buttonEl =\n",
              "        document.querySelector('#df-6358b029-0861-41c9-b1a9-cc02fff8682d button.colab-df-convert');\n",
              "      buttonEl.style.display =\n",
              "        google.colab.kernel.accessAllowed ? 'block' : 'none';\n",
              "\n",
              "      async function convertToInteractive(key) {\n",
              "        const element = document.querySelector('#df-6358b029-0861-41c9-b1a9-cc02fff8682d');\n",
              "        const dataTable =\n",
              "          await google.colab.kernel.invokeFunction('convertToInteractive',\n",
              "                                                    [key], {});\n",
              "        if (!dataTable) return;\n",
              "\n",
              "        const docLinkHtml = 'Like what you see? Visit the ' +\n",
              "          '<a target=\"_blank\" href=https://colab.research.google.com/notebooks/data_table.ipynb>data table notebook</a>'\n",
              "          + ' to learn more about interactive tables.';\n",
              "        element.innerHTML = '';\n",
              "        dataTable['output_type'] = 'display_data';\n",
              "        await google.colab.output.renderOutput(dataTable, element);\n",
              "        const docLink = document.createElement('div');\n",
              "        docLink.innerHTML = docLinkHtml;\n",
              "        element.appendChild(docLink);\n",
              "      }\n",
              "    </script>\n",
              "  </div>\n",
              "\n",
              "\n",
              "<div id=\"df-f7753238-3180-4f38-94da-cdb8687eca7e\">\n",
              "  <button class=\"colab-df-quickchart\" onclick=\"quickchart('df-f7753238-3180-4f38-94da-cdb8687eca7e')\"\n",
              "            title=\"Suggest charts\"\n",
              "            style=\"display:none;\">\n",
              "\n",
              "<svg xmlns=\"http://www.w3.org/2000/svg\" height=\"24px\"viewBox=\"0 0 24 24\"\n",
              "     width=\"24px\">\n",
              "    <g>\n",
              "        <path d=\"M19 3H5c-1.1 0-2 .9-2 2v14c0 1.1.9 2 2 2h14c1.1 0 2-.9 2-2V5c0-1.1-.9-2-2-2zM9 17H7v-7h2v7zm4 0h-2V7h2v10zm4 0h-2v-4h2v4z\"/>\n",
              "    </g>\n",
              "</svg>\n",
              "  </button>\n",
              "\n",
              "<style>\n",
              "  .colab-df-quickchart {\n",
              "      --bg-color: #E8F0FE;\n",
              "      --fill-color: #1967D2;\n",
              "      --hover-bg-color: #E2EBFA;\n",
              "      --hover-fill-color: #174EA6;\n",
              "      --disabled-fill-color: #AAA;\n",
              "      --disabled-bg-color: #DDD;\n",
              "  }\n",
              "\n",
              "  [theme=dark] .colab-df-quickchart {\n",
              "      --bg-color: #3B4455;\n",
              "      --fill-color: #D2E3FC;\n",
              "      --hover-bg-color: #434B5C;\n",
              "      --hover-fill-color: #FFFFFF;\n",
              "      --disabled-bg-color: #3B4455;\n",
              "      --disabled-fill-color: #666;\n",
              "  }\n",
              "\n",
              "  .colab-df-quickchart {\n",
              "    background-color: var(--bg-color);\n",
              "    border: none;\n",
              "    border-radius: 50%;\n",
              "    cursor: pointer;\n",
              "    display: none;\n",
              "    fill: var(--fill-color);\n",
              "    height: 32px;\n",
              "    padding: 0;\n",
              "    width: 32px;\n",
              "  }\n",
              "\n",
              "  .colab-df-quickchart:hover {\n",
              "    background-color: var(--hover-bg-color);\n",
              "    box-shadow: 0 1px 2px rgba(60, 64, 67, 0.3), 0 1px 3px 1px rgba(60, 64, 67, 0.15);\n",
              "    fill: var(--button-hover-fill-color);\n",
              "  }\n",
              "\n",
              "  .colab-df-quickchart-complete:disabled,\n",
              "  .colab-df-quickchart-complete:disabled:hover {\n",
              "    background-color: var(--disabled-bg-color);\n",
              "    fill: var(--disabled-fill-color);\n",
              "    box-shadow: none;\n",
              "  }\n",
              "\n",
              "  .colab-df-spinner {\n",
              "    border: 2px solid var(--fill-color);\n",
              "    border-color: transparent;\n",
              "    border-bottom-color: var(--fill-color);\n",
              "    animation:\n",
              "      spin 1s steps(1) infinite;\n",
              "  }\n",
              "\n",
              "  @keyframes spin {\n",
              "    0% {\n",
              "      border-color: transparent;\n",
              "      border-bottom-color: var(--fill-color);\n",
              "      border-left-color: var(--fill-color);\n",
              "    }\n",
              "    20% {\n",
              "      border-color: transparent;\n",
              "      border-left-color: var(--fill-color);\n",
              "      border-top-color: var(--fill-color);\n",
              "    }\n",
              "    30% {\n",
              "      border-color: transparent;\n",
              "      border-left-color: var(--fill-color);\n",
              "      border-top-color: var(--fill-color);\n",
              "      border-right-color: var(--fill-color);\n",
              "    }\n",
              "    40% {\n",
              "      border-color: transparent;\n",
              "      border-right-color: var(--fill-color);\n",
              "      border-top-color: var(--fill-color);\n",
              "    }\n",
              "    60% {\n",
              "      border-color: transparent;\n",
              "      border-right-color: var(--fill-color);\n",
              "    }\n",
              "    80% {\n",
              "      border-color: transparent;\n",
              "      border-right-color: var(--fill-color);\n",
              "      border-bottom-color: var(--fill-color);\n",
              "    }\n",
              "    90% {\n",
              "      border-color: transparent;\n",
              "      border-bottom-color: var(--fill-color);\n",
              "    }\n",
              "  }\n",
              "</style>\n",
              "\n",
              "  <script>\n",
              "    async function quickchart(key) {\n",
              "      const quickchartButtonEl =\n",
              "        document.querySelector('#' + key + ' button');\n",
              "      quickchartButtonEl.disabled = true;  // To prevent multiple clicks.\n",
              "      quickchartButtonEl.classList.add('colab-df-spinner');\n",
              "      try {\n",
              "        const charts = await google.colab.kernel.invokeFunction(\n",
              "            'suggestCharts', [key], {});\n",
              "      } catch (error) {\n",
              "        console.error('Error during call to suggestCharts:', error);\n",
              "      }\n",
              "      quickchartButtonEl.classList.remove('colab-df-spinner');\n",
              "      quickchartButtonEl.classList.add('colab-df-quickchart-complete');\n",
              "    }\n",
              "    (() => {\n",
              "      let quickchartButtonEl =\n",
              "        document.querySelector('#df-f7753238-3180-4f38-94da-cdb8687eca7e button');\n",
              "      quickchartButtonEl.style.display =\n",
              "        google.colab.kernel.accessAllowed ? 'block' : 'none';\n",
              "    })();\n",
              "  </script>\n",
              "</div>\n",
              "\n",
              "  <div id=\"id_4e20b0f9-f084-4f39-b667-554129f81158\">\n",
              "    <style>\n",
              "      .colab-df-generate {\n",
              "        background-color: #E8F0FE;\n",
              "        border: none;\n",
              "        border-radius: 50%;\n",
              "        cursor: pointer;\n",
              "        display: none;\n",
              "        fill: #1967D2;\n",
              "        height: 32px;\n",
              "        padding: 0 0 0 0;\n",
              "        width: 32px;\n",
              "      }\n",
              "\n",
              "      .colab-df-generate:hover {\n",
              "        background-color: #E2EBFA;\n",
              "        box-shadow: 0px 1px 2px rgba(60, 64, 67, 0.3), 0px 1px 3px 1px rgba(60, 64, 67, 0.15);\n",
              "        fill: #174EA6;\n",
              "      }\n",
              "\n",
              "      [theme=dark] .colab-df-generate {\n",
              "        background-color: #3B4455;\n",
              "        fill: #D2E3FC;\n",
              "      }\n",
              "\n",
              "      [theme=dark] .colab-df-generate:hover {\n",
              "        background-color: #434B5C;\n",
              "        box-shadow: 0px 1px 3px 1px rgba(0, 0, 0, 0.15);\n",
              "        filter: drop-shadow(0px 1px 2px rgba(0, 0, 0, 0.3));\n",
              "        fill: #FFFFFF;\n",
              "      }\n",
              "    </style>\n",
              "    <button class=\"colab-df-generate\" onclick=\"generateWithVariable('check')\"\n",
              "            title=\"Generate code using this dataframe.\"\n",
              "            style=\"display:none;\">\n",
              "\n",
              "  <svg xmlns=\"http://www.w3.org/2000/svg\" height=\"24px\"viewBox=\"0 0 24 24\"\n",
              "       width=\"24px\">\n",
              "    <path d=\"M7,19H8.4L18.45,9,17,7.55,7,17.6ZM5,21V16.75L18.45,3.32a2,2,0,0,1,2.83,0l1.4,1.43a1.91,1.91,0,0,1,.58,1.4,1.91,1.91,0,0,1-.58,1.4L9.25,21ZM18.45,9,17,7.55Zm-12,3A5.31,5.31,0,0,0,4.9,8.1,5.31,5.31,0,0,0,1,6.5,5.31,5.31,0,0,0,4.9,4.9,5.31,5.31,0,0,0,6.5,1,5.31,5.31,0,0,0,8.1,4.9,5.31,5.31,0,0,0,12,6.5,5.46,5.46,0,0,0,6.5,12Z\"/>\n",
              "  </svg>\n",
              "    </button>\n",
              "    <script>\n",
              "      (() => {\n",
              "      const buttonEl =\n",
              "        document.querySelector('#id_4e20b0f9-f084-4f39-b667-554129f81158 button.colab-df-generate');\n",
              "      buttonEl.style.display =\n",
              "        google.colab.kernel.accessAllowed ? 'block' : 'none';\n",
              "\n",
              "      buttonEl.onclick = () => {\n",
              "        google.colab.notebook.generateWithVariable('check');\n",
              "      }\n",
              "      })();\n",
              "    </script>\n",
              "  </div>\n",
              "\n",
              "    </div>\n",
              "  </div>\n"
            ],
            "application/vnd.google.colaboratory.intrinsic+json": {
              "type": "dataframe",
              "variable_name": "check",
              "summary": "{\n  \"name\": \"check\",\n  \"rows\": 94,\n  \"fields\": [\n    {\n      \"column\": \"id\",\n      \"properties\": {\n        \"dtype\": \"number\",\n        \"std\": 10585,\n        \"min\": 1362,\n        \"max\": 53964,\n        \"num_unique_values\": 94,\n        \"samples\": [\n          4315,\n          3909,\n          12459\n        ],\n        \"semantic_type\": \"\",\n        \"description\": \"\"\n      }\n    },\n    {\n      \"column\": \"url\",\n      \"properties\": {\n        \"dtype\": \"string\",\n        \"num_unique_values\": 94,\n        \"samples\": [\n          \"https://ko.wikisource.org/wiki?curid=4315\",\n          \"https://ko.wikisource.org/wiki?curid=3909\",\n          \"https://ko.wikisource.org/wiki?curid=12459\"\n        ],\n        \"semantic_type\": \"\",\n        \"description\": \"\"\n      }\n    },\n    {\n      \"column\": \"title\",\n      \"properties\": {\n        \"dtype\": \"string\",\n        \"num_unique_values\": 94,\n        \"samples\": [\n          \"\\ub2d8\\uc758 \\uce68\\ubb35/\\uc815\\ucc9c\\ud55c\\ud574\",\n          \"\\ub2d8\\uc758 \\uce68\\ubb35/\\ud589\\ubcf5\",\n          \"\\ub2d8\\uc758 \\uce68\\ubb35/\\ub2f9\\uc2e0\\uc740\"\n        ],\n        \"semantic_type\": \"\",\n        \"description\": \"\"\n      }\n    },\n    {\n      \"column\": \"doc\",\n      \"properties\": {\n        \"dtype\": \"string\",\n        \"num_unique_values\": 94,\n        \"samples\": [\n          \"\\n\\ub2d8\\uc758 \\uce68\\ubb35/\\uc815\\ucc9c\\ud55c\\ud574\\n\\n<poem>\\n\\uac00\\uc744 \\ud558\\ub298\\uc774 \\ub192\\ub2e4\\uae30\\ub85c \\n\\u60c5\\uc758 \\ud558\\ub298\\uc5d0 \\ub530\\ub97c\\uc18c\\ub0d0\\n\\ubd04\\ubc14\\ub2e4\\uac00 \\uae4a\\ub2e4\\uae30\\ub85c\\n\\u6068\\ubc14\\ub2e4\\ub9cc \\ubabb\\ud558\\ub9ac\\ub77c\\n\\ub192\\uace0 \\ub192\\uc740 \\u60c5\\ud558\\ub298\\uc774 \\n\\uc2eb\\uc740 \\uac83\\uc740 \\uc544\\ub2c8\\uc9c0\\ub9cc \\n\\uc190\\uc774 \\ub0ae\\uc544\\uc11c \\n\\uc624\\ub974\\uc9c0 \\ubabb\\ud558\\uace0 \\n\\uae4a\\uace0 \\uae4a\\uc740 \\u6068\\ubc14\\ub2e4\\uac00\\n\\ubcd1\\ub420 \\uac83\\uc740 \\uc5c6\\uc9c0\\ub9c8\\ub294 \\n\\ub2e4\\ub9ac\\uac00 \\uc9e7\\uc544\\uc11c \\n\\uac74\\ub108\\uc9c0 \\ubabb\\ud55c\\ub2e4\\n\\uc190\\uc774 \\uc790\\ub77c\\uc11c \\uc624\\ub97c \\uc218\\ub9cc \\uc788\\uc73c\\uba74 \\n\\u60c5\\ud558\\ub298\\uc740 \\ub192\\uc744\\uc218\\ub85d \\uc544\\ub984\\ub2f5\\uace0\\n\\ub2e4\\ub9ac\\uac00 \\uae30\\ub7ec\\uc11c \\uac74\\ub110\\uc218\\ub9cc \\uc788\\uc73c\\uba74\\n\\u6068\\ubc14\\ub2e4\\ub294 \\uae4a\\uc744\\uc218\\ub85d \\ubb18\\ud558\\ub2c8\\ub77c\\n\\ub9cc\\uc77c \\u60c5\\ud558\\ub298\\uc774 \\ubb34\\ub108\\uc9c0\\uace0 \\u6068\\ubc14\\ub2e4\\uac00 \\ub9c8\\ub978\\ub2e4\\uba74 \\n\\ucc28\\ub77c\\ub9ac \\u60c5\\u5929\\uc5d0 \\ub5a8\\uc5b4\\uc9c0\\uace0 \\u6068\\u6d77\\uc5d0 \\ube60\\uc9c0\\ub9ac\\ub77c\\n\\uc544\\uc544 \\u60c5\\ud558\\ub298\\uc774 \\ub192\\uc740 \\uc904\\ub9cc \\uc54c\\uc558\\ub354\\ub2c8 \\n\\ub2d8\\uc758 \\uc774\\ub9c8\\ubcf4\\ub2e4\\ub294 \\ub0ae\\ub2e4\\n\\uc544\\uc544 \\u6068\\ubc14\\ub2e4\\uac00 \\uae4a\\uc740 \\uc904\\ub9cc \\uc54c\\uc558\\ub354\\ub2c8\\n\\ub2d8\\uc758 \\ubb34\\ub98e\\ubcf4\\ub2e4\\ub294 \\uc605\\ub2e4\\n\\uc190\\uc774\\uc57c \\ub0ae\\ub4e0\\uc9c0 \\ub2e4\\ub9ac\\uc57c \\uc9e7\\ub4e0\\uc9c0 \\n\\u60c5\\ud558\\ub298\\uc5d0 \\uc624\\ub974\\uace0 \\u6068\\ubc14\\ub2e4\\ub97c \\uac74\\ub108\\ub824\\uba74 \\n\\ub2d8\\uc5d0\\uac8c\\ub9cc \\uc548\\uae30\\ub9ac\\ub77c</poem>\\n\\n\",\n          \"\\n\\ub2d8\\uc758 \\uce68\\ubb35/\\ud589\\ubcf5\\n\\n<poem>\\n\\ub098\\ub294 \\ub2f9\\uc2e0\\uc744 \\uc0ac\\ub791\\ud558\\uace0 \\ub2f9\\uc2e0\\uc758 \\ud589\\ubcf5\\uc744 \\uc0ac\\ub791\\ud569\\ub2c8\\ub2e4 \\ub098\\ub294 \\uc628\\uc138\\uc0c1 \\uc0ac\\ub78c\\uc774 \\ub2f9\\uc2e0\\uc744 \\uc0ac\\ub791\\ud558\\uace0 \\ub2f9\\uc2e0\\uc758 \\ud589\\ubcf5\\uc744 \\uc0ac\\ub791\\ud558\\uae30\\ub97c \\ubc14\\ub78d\\ub2c8\\ub2e4\\n\\uadf8\\ub7ec\\ub098 \\uc815\\ub9d0\\ub85c \\ub2f9\\uc2e0\\uc744 \\uc0ac\\ub791\\ud558\\ub294 \\uc0ac\\ub78c\\uc774 \\uc788\\ub2e4\\uba74 \\ub098\\ub294 \\uadf8 \\uc0ac\\ub78c\\uc744 \\ubbf8\\uc6cc\\ud558\\uaca0\\uc2b5\\ub2c8\\ub2e4 \\uadf8 \\uc0ac\\ub78c\\uc744 \\ubbf8\\uc6cc\\ud558\\ub294 \\uac83\\uc740 \\ub2f9\\uc2e0\\uc744 \\uc0ac\\ub791\\ud558\\ub294 \\ub9c8\\uc74c\\uc758 \\ud55c \\ubd80\\ubd84\\uc785\\ub2c8\\ub2e4\\n\\uadf8\\ub7ec\\ubbc0\\ub85c \\uadf8 \\uc0ac\\ub78c\\uc744 \\ubbf8\\uc6cc\\ud558\\ub294 \\uace0\\ud1b5\\ub3c4 \\ub098\\uc5d0\\uac8c\\ub294 \\ud589\\ubcf5\\uc785\\ub2c8\\ub2e4\\n\\ub9cc\\uc77c \\uc628\\uc138\\uc0c1 \\uc0ac\\ub78c\\uc774 \\ub2f9\\uc2e0\\uc744 \\ubbf8\\uc6cc\\ud55c\\ub2e4\\uba74 \\ub098\\ub294 \\uadf8 \\uc0ac\\ub78c\\uc744 \\uc5bc\\ub9c8\\ub098 \\ubbf8\\uc6cc\\ud558\\uaca0\\uc2b5\\ub2c8\\uae4c\\n\\ub9cc\\uc77c \\uc628\\uc138\\uc0c1 \\uc0ac\\ub78c\\uc774 \\ub2f9\\uc2e0\\uc744 \\uc0ac\\ub791\\ud558\\uc9c0\\ub3c4 \\uc54a\\uace0 \\ubbf8\\uc6cc\\ud558\\uc9c0\\ub3c4 \\uc54a\\ub294\\ub2e4\\uba74 \\uadf8\\uac83\\uc740 \\ub098\\uc758 \\uc77c\\uc0dd\\uc5d0 \\uacac\\ub51c \\uc218 \\uc5c6\\ub294 \\ubd88\\ud589\\uc785\\ub2c8\\ub2e4 \\n\\ub9cc\\uc77c \\uc628\\uc138\\uc0c1 \\uc0ac\\ub78c\\uc774 \\ub2f9\\uc2e0\\uc744 \\uc0ac\\ub791\\ud558\\uace0\\uc790 \\ud558\\uc5ec \\ub098\\ub97c \\ubbf8\\uc6cc\\ud55c\\ub2e4\\uba74 \\ub098\\uc758 \\ud589\\ubcf5\\uc740 \\ub354 \\ud074 \\uc218\\uac00 \\uc5c6\\uc2b5\\ub2c8\\ub2e4\\n\\uadf8\\uac83\\uc740 \\ubaa8\\ub4e0 \\uc0ac\\ub78c\\uc758 \\ub098\\ub97c \\ubbf8\\uc6cc\\ud558\\ub294 \\u6028\\u6068\\uc758 \\u8c46\\u6eff\\u6c5f\\uc774 \\uae4a\\uc744\\uc218\\ub85d \\ub098\\uc758 \\ub2f9\\uc2e0\\uc744 \\uc0ac\\ub791\\ud558\\ub294 \\u5e78\\u798f\\uc758 \\u767d\\u982d\\u5c71\\uc774 \\ub192\\uc544\\uc9c0\\ub294 \\uae4c\\ub2ed\\uc785\\ub2c8\\ub2e4\\n</poem>\\n\\n\",\n          \"\\n\\ub2d8\\uc758 \\uce68\\ubb35/\\ub2f9\\uc2e0\\uc740\\n\\n<poem>\\n\\ub2f9\\uc2e0\\uc740 \\ub098\\ub97c \\ubcf4\\uba74 \\uc65c \\ub298 \\uc6c3\\uae30\\ub9cc \\ud558\\uc154\\uc694 \\ub2f9\\uc2e0\\uc758 \\ucc21\\uadf8\\ub9ac\\ub294 \\uc5bc\\uad74\\uc744 \\uc880 \\ubcf4\\uace0 \\uc2f6\\uc740\\ub370\\n\\ub098\\ub294 \\ub2f9\\uc2e0\\uc744 \\ubcf4\\uace0 \\ucc21\\uadf8\\ub9ac\\uae30\\ub294 \\uc2eb\\uc5b4\\uc694 \\ub2f9\\uc2e0\\uc740 \\ucc21\\uadf8\\ub9ac\\ub294 \\uc5bc\\uad74\\uc744 \\ubcf4\\uae30 \\uc2eb\\uc5b4\\ud558\\uc2e4 \\uc904\\uc744 \\uc555\\ub2c8\\ub2e4\\n\\uadf8\\ub7ec\\ub098 \\ub5a8\\uc5b4\\uc9c4 \\ub3c4\\ud654\\uac00 \\ub0a0\\ub77c\\uc11c \\ub2f9\\uc2e0\\uc758 \\uc785\\uc220\\uc5d0 \\uc2a4\\uce60 \\ub54c\\uc5d0 \\ub098\\ub294 \\uc774\\ub9c8\\uac00 \\ucc21\\uadf8\\ub7ec\\uc9c0\\ub294 \\uc904\\ub3c4 \\ubaa8\\ub974\\uace0 \\uc6b8\\uace0 \\uc2f6\\uc5c8\\uc2b5\\ub2c8\\ub2e4 \\n\\uadf8\\ub798\\uc11c \\uae08\\uc2e4\\ub85c \\uc218 \\ub193\\uc740 \\uc218\\uac74\\uc73c\\ub85c \\uc5bc\\uad74\\uc744 \\uac00\\ub838\\uc2b5\\ub2c8\\ub2e4\\n</poem>\\n\\n\"\n        ],\n        \"semantic_type\": \"\",\n        \"description\": \"\"\n      }\n    }\n  ]\n}"
            }
          },
          "metadata": {},
          "execution_count": 16
        }
      ]
    },
    {
      "cell_type": "code",
      "source": [
        "#빈 프레임 지정. 열 지정.\n",
        "text1 = pd.DataFrame(columns=['본문', '제목'])\n",
        "text1"
      ],
      "metadata": {
        "colab": {
          "base_uri": "https://localhost:8080/",
          "height": 89
        },
        "id": "M4EMV1eL21FG",
        "outputId": "32da1c93-0180-43ba-9f5f-b21b5bd3d133"
      },
      "execution_count": 33,
      "outputs": [
        {
          "output_type": "execute_result",
          "data": {
            "text/plain": [
              "Empty DataFrame\n",
              "Columns: [본문, 제목]\n",
              "Index: []"
            ],
            "text/html": [
              "\n",
              "  <div id=\"df-3013f70d-a2f6-4121-acf4-12ea9eb2eef5\" class=\"colab-df-container\">\n",
              "    <div>\n",
              "<style scoped>\n",
              "    .dataframe tbody tr th:only-of-type {\n",
              "        vertical-align: middle;\n",
              "    }\n",
              "\n",
              "    .dataframe tbody tr th {\n",
              "        vertical-align: top;\n",
              "    }\n",
              "\n",
              "    .dataframe thead th {\n",
              "        text-align: right;\n",
              "    }\n",
              "</style>\n",
              "<table border=\"1\" class=\"dataframe\">\n",
              "  <thead>\n",
              "    <tr style=\"text-align: right;\">\n",
              "      <th></th>\n",
              "      <th>본문</th>\n",
              "      <th>제목</th>\n",
              "    </tr>\n",
              "  </thead>\n",
              "  <tbody>\n",
              "  </tbody>\n",
              "</table>\n",
              "</div>\n",
              "    <div class=\"colab-df-buttons\">\n",
              "\n",
              "  <div class=\"colab-df-container\">\n",
              "    <button class=\"colab-df-convert\" onclick=\"convertToInteractive('df-3013f70d-a2f6-4121-acf4-12ea9eb2eef5')\"\n",
              "            title=\"Convert this dataframe to an interactive table.\"\n",
              "            style=\"display:none;\">\n",
              "\n",
              "  <svg xmlns=\"http://www.w3.org/2000/svg\" height=\"24px\" viewBox=\"0 -960 960 960\">\n",
              "    <path d=\"M120-120v-720h720v720H120Zm60-500h600v-160H180v160Zm220 220h160v-160H400v160Zm0 220h160v-160H400v160ZM180-400h160v-160H180v160Zm440 0h160v-160H620v160ZM180-180h160v-160H180v160Zm440 0h160v-160H620v160Z\"/>\n",
              "  </svg>\n",
              "    </button>\n",
              "\n",
              "  <style>\n",
              "    .colab-df-container {\n",
              "      display:flex;\n",
              "      gap: 12px;\n",
              "    }\n",
              "\n",
              "    .colab-df-convert {\n",
              "      background-color: #E8F0FE;\n",
              "      border: none;\n",
              "      border-radius: 50%;\n",
              "      cursor: pointer;\n",
              "      display: none;\n",
              "      fill: #1967D2;\n",
              "      height: 32px;\n",
              "      padding: 0 0 0 0;\n",
              "      width: 32px;\n",
              "    }\n",
              "\n",
              "    .colab-df-convert:hover {\n",
              "      background-color: #E2EBFA;\n",
              "      box-shadow: 0px 1px 2px rgba(60, 64, 67, 0.3), 0px 1px 3px 1px rgba(60, 64, 67, 0.15);\n",
              "      fill: #174EA6;\n",
              "    }\n",
              "\n",
              "    .colab-df-buttons div {\n",
              "      margin-bottom: 4px;\n",
              "    }\n",
              "\n",
              "    [theme=dark] .colab-df-convert {\n",
              "      background-color: #3B4455;\n",
              "      fill: #D2E3FC;\n",
              "    }\n",
              "\n",
              "    [theme=dark] .colab-df-convert:hover {\n",
              "      background-color: #434B5C;\n",
              "      box-shadow: 0px 1px 3px 1px rgba(0, 0, 0, 0.15);\n",
              "      filter: drop-shadow(0px 1px 2px rgba(0, 0, 0, 0.3));\n",
              "      fill: #FFFFFF;\n",
              "    }\n",
              "  </style>\n",
              "\n",
              "    <script>\n",
              "      const buttonEl =\n",
              "        document.querySelector('#df-3013f70d-a2f6-4121-acf4-12ea9eb2eef5 button.colab-df-convert');\n",
              "      buttonEl.style.display =\n",
              "        google.colab.kernel.accessAllowed ? 'block' : 'none';\n",
              "\n",
              "      async function convertToInteractive(key) {\n",
              "        const element = document.querySelector('#df-3013f70d-a2f6-4121-acf4-12ea9eb2eef5');\n",
              "        const dataTable =\n",
              "          await google.colab.kernel.invokeFunction('convertToInteractive',\n",
              "                                                    [key], {});\n",
              "        if (!dataTable) return;\n",
              "\n",
              "        const docLinkHtml = 'Like what you see? Visit the ' +\n",
              "          '<a target=\"_blank\" href=https://colab.research.google.com/notebooks/data_table.ipynb>data table notebook</a>'\n",
              "          + ' to learn more about interactive tables.';\n",
              "        element.innerHTML = '';\n",
              "        dataTable['output_type'] = 'display_data';\n",
              "        await google.colab.output.renderOutput(dataTable, element);\n",
              "        const docLink = document.createElement('div');\n",
              "        docLink.innerHTML = docLinkHtml;\n",
              "        element.appendChild(docLink);\n",
              "      }\n",
              "    </script>\n",
              "  </div>\n",
              "\n",
              "\n",
              "  <div id=\"id_6659648c-46f7-44d0-92b9-2ca77e384f71\">\n",
              "    <style>\n",
              "      .colab-df-generate {\n",
              "        background-color: #E8F0FE;\n",
              "        border: none;\n",
              "        border-radius: 50%;\n",
              "        cursor: pointer;\n",
              "        display: none;\n",
              "        fill: #1967D2;\n",
              "        height: 32px;\n",
              "        padding: 0 0 0 0;\n",
              "        width: 32px;\n",
              "      }\n",
              "\n",
              "      .colab-df-generate:hover {\n",
              "        background-color: #E2EBFA;\n",
              "        box-shadow: 0px 1px 2px rgba(60, 64, 67, 0.3), 0px 1px 3px 1px rgba(60, 64, 67, 0.15);\n",
              "        fill: #174EA6;\n",
              "      }\n",
              "\n",
              "      [theme=dark] .colab-df-generate {\n",
              "        background-color: #3B4455;\n",
              "        fill: #D2E3FC;\n",
              "      }\n",
              "\n",
              "      [theme=dark] .colab-df-generate:hover {\n",
              "        background-color: #434B5C;\n",
              "        box-shadow: 0px 1px 3px 1px rgba(0, 0, 0, 0.15);\n",
              "        filter: drop-shadow(0px 1px 2px rgba(0, 0, 0, 0.3));\n",
              "        fill: #FFFFFF;\n",
              "      }\n",
              "    </style>\n",
              "    <button class=\"colab-df-generate\" onclick=\"generateWithVariable('text1')\"\n",
              "            title=\"Generate code using this dataframe.\"\n",
              "            style=\"display:none;\">\n",
              "\n",
              "  <svg xmlns=\"http://www.w3.org/2000/svg\" height=\"24px\"viewBox=\"0 0 24 24\"\n",
              "       width=\"24px\">\n",
              "    <path d=\"M7,19H8.4L18.45,9,17,7.55,7,17.6ZM5,21V16.75L18.45,3.32a2,2,0,0,1,2.83,0l1.4,1.43a1.91,1.91,0,0,1,.58,1.4,1.91,1.91,0,0,1-.58,1.4L9.25,21ZM18.45,9,17,7.55Zm-12,3A5.31,5.31,0,0,0,4.9,8.1,5.31,5.31,0,0,0,1,6.5,5.31,5.31,0,0,0,4.9,4.9,5.31,5.31,0,0,0,6.5,1,5.31,5.31,0,0,0,8.1,4.9,5.31,5.31,0,0,0,12,6.5,5.46,5.46,0,0,0,6.5,12Z\"/>\n",
              "  </svg>\n",
              "    </button>\n",
              "    <script>\n",
              "      (() => {\n",
              "      const buttonEl =\n",
              "        document.querySelector('#id_6659648c-46f7-44d0-92b9-2ca77e384f71 button.colab-df-generate');\n",
              "      buttonEl.style.display =\n",
              "        google.colab.kernel.accessAllowed ? 'block' : 'none';\n",
              "\n",
              "      buttonEl.onclick = () => {\n",
              "        google.colab.notebook.generateWithVariable('text1');\n",
              "      }\n",
              "      })();\n",
              "    </script>\n",
              "  </div>\n",
              "\n",
              "    </div>\n",
              "  </div>\n"
            ],
            "application/vnd.google.colaboratory.intrinsic+json": {
              "type": "dataframe",
              "variable_name": "text1",
              "repr_error": "Out of range float values are not JSON compliant: nan"
            }
          },
          "metadata": {},
          "execution_count": 33
        }
      ]
    },
    {
      "cell_type": "markdown",
      "source": [
        "### 데이터 추출 (행마다)"
      ],
      "metadata": {
        "id": "1_ogJrgGD988"
      }
    },
    {
      "cell_type": "code",
      "source": [
        "text1 = update_results_with_title(df, text1, process_getPoemLines, title, author)\n",
        "text1.iloc[-1] # 마지막줄 확인"
      ],
      "metadata": {
        "colab": {
          "base_uri": "https://localhost:8080/",
          "height": 178
        },
        "collapsed": true,
        "id": "RVVygY7aybr4",
        "outputId": "2e766ff7-b2d4-4872-a16f-c74cd2e6f2a7"
      },
      "execution_count": 31,
      "outputs": [
        {
          "output_type": "execute_result",
          "data": {
            "text/plain": [
              "본문    오셔요 당신은 오실 때가 되었습니다 어서 오셔요\n",
              "제목                           오셔요\n",
              "저자                           한용운\n",
              "Name: 1098, dtype: object"
            ],
            "text/html": [
              "<div>\n",
              "<style scoped>\n",
              "    .dataframe tbody tr th:only-of-type {\n",
              "        vertical-align: middle;\n",
              "    }\n",
              "\n",
              "    .dataframe tbody tr th {\n",
              "        vertical-align: top;\n",
              "    }\n",
              "\n",
              "    .dataframe thead th {\n",
              "        text-align: right;\n",
              "    }\n",
              "</style>\n",
              "<table border=\"1\" class=\"dataframe\">\n",
              "  <thead>\n",
              "    <tr style=\"text-align: right;\">\n",
              "      <th></th>\n",
              "      <th>1098</th>\n",
              "    </tr>\n",
              "  </thead>\n",
              "  <tbody>\n",
              "    <tr>\n",
              "      <th>본문</th>\n",
              "      <td>오셔요 당신은 오실 때가 되었습니다 어서 오셔요</td>\n",
              "    </tr>\n",
              "    <tr>\n",
              "      <th>제목</th>\n",
              "      <td>오셔요</td>\n",
              "    </tr>\n",
              "    <tr>\n",
              "      <th>저자</th>\n",
              "      <td>한용운</td>\n",
              "    </tr>\n",
              "  </tbody>\n",
              "</table>\n",
              "</div><br><label><b>dtype:</b> object</label>"
            ]
          },
          "metadata": {},
          "execution_count": 31
        }
      ]
    },
    {
      "cell_type": "markdown",
      "source": [
        "### 데이터 추출 (전체)"
      ],
      "metadata": {
        "id": "Uxh3mRXJKE7v"
      }
    },
    {
      "cell_type": "code",
      "source": [
        "text1 = update_FullTextResults_with_title(df, text1, process_getPoemFullLines, title, author)\n",
        "text1.iloc[-1] # 마지막줄 확인"
      ],
      "metadata": {
        "colab": {
          "base_uri": "https://localhost:8080/",
          "height": 178
        },
        "id": "asrl0AvvKOJ5",
        "outputId": "a645e6a7-618b-46cf-fd53-765de0e24ed4"
      },
      "execution_count": 34,
      "outputs": [
        {
          "output_type": "execute_result",
          "data": {
            "text/plain": [
              "본문                    \n",
              "제목    님의 침묵/하나가 되어 주세요\n",
              "저자                 한용운\n",
              "Name: 93, dtype: object"
            ],
            "text/html": [
              "<div>\n",
              "<style scoped>\n",
              "    .dataframe tbody tr th:only-of-type {\n",
              "        vertical-align: middle;\n",
              "    }\n",
              "\n",
              "    .dataframe tbody tr th {\n",
              "        vertical-align: top;\n",
              "    }\n",
              "\n",
              "    .dataframe thead th {\n",
              "        text-align: right;\n",
              "    }\n",
              "</style>\n",
              "<table border=\"1\" class=\"dataframe\">\n",
              "  <thead>\n",
              "    <tr style=\"text-align: right;\">\n",
              "      <th></th>\n",
              "      <th>93</th>\n",
              "    </tr>\n",
              "  </thead>\n",
              "  <tbody>\n",
              "    <tr>\n",
              "      <th>본문</th>\n",
              "      <td></td>\n",
              "    </tr>\n",
              "    <tr>\n",
              "      <th>제목</th>\n",
              "      <td>님의 침묵/하나가 되어 주세요</td>\n",
              "    </tr>\n",
              "    <tr>\n",
              "      <th>저자</th>\n",
              "      <td>한용운</td>\n",
              "    </tr>\n",
              "  </tbody>\n",
              "</table>\n",
              "</div><br><label><b>dtype:</b> object</label>"
            ]
          },
          "metadata": {},
          "execution_count": 34
        }
      ]
    },
    {
      "cell_type": "markdown",
      "source": [
        "### 엑셀로 저장"
      ],
      "metadata": {
        "id": "Dz_L60NyKZ-W"
      }
    },
    {
      "cell_type": "code",
      "source": [
        "# 엑셀로 저장하기\n",
        "text1.to_excel('위키문헌_한용운.xlsx')"
      ],
      "metadata": {
        "id": "tqgY-l4R7kyh"
      },
      "execution_count": 35,
      "outputs": []
    }
  ]
}